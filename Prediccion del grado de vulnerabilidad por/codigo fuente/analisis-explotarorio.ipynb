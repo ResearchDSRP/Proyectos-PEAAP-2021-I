{
  "nbformat": 4,
  "nbformat_minor": 0,
  "metadata": {
    "colab": {
      "name": "Covid.ipynb",
      "provenance": [],
      "collapsed_sections": []
    },
    "kernelspec": {
      "name": "python3",
      "display_name": "Python 3"
    }
  },
  "cells": [
    {
      "cell_type": "markdown",
      "metadata": {
        "id": "dvTolygtMRRB"
      },
      "source": [
        "# Problema\r\n",
        "\r\n"
      ]
    },
    {
      "cell_type": "markdown",
      "metadata": {
        "id": "oOp5ABsUMFOt"
      },
      "source": [
        "\r\n",
        "\r\n",
        "> Dada su alta letalidad (el COVID-19 registra aprox. un 7% comparada con otros virus), es importante determinar las condiciones de pacientes que pueden conllevar mayores factores de vulnerabilidad para asi poder tomar acciones de prevencion y cuidado dirigidas a ciertos sectores sociodemograficos de la poblacion en EEUU.\r\n"
      ]
    },
    {
      "cell_type": "markdown",
      "metadata": {
        "id": "Zzpa9qn4MYfk"
      },
      "source": [
        "#Hipotésis"
      ]
    },
    {
      "cell_type": "markdown",
      "metadata": {
        "id": "cjHGGV_FMb2X"
      },
      "source": [
        "\r\n",
        ">Crear un modelo de prediccion que nos permita determinar que factores sociodemograficos conllevan un mayor grado de vulnerabilidad midiendo la tasa de causalidad de eventos (necesidad de internamiento en hospital, ingreso a UCI, fallecimiento).\r\n",
        "---\r\n",
        ">Un modelo de forecasting, basandonos en los factores temporales (estacionalidad del tiempo,medidas preventivas del gobierno) y sociales (edad,sexo,raza) disponibles nos puede permitir realizar proyecciones en un futuro proximo (semanal,1M,3M), lo cual permite tomar acciones de planificacion por parte del sector sanitario.\r\n",
        "---\r\n",
        ">Encontrar atributos y patrones que inciden con mayor fuerza en la letalidad de la enfermedad (edad,sexo,raza,enfermedades preexistentes,ingreso a UCI)\r\n",
        "para la predicción del riesgo de muerte en el paciente."
      ]
    },
    {
      "cell_type": "markdown",
      "metadata": {
        "id": "ZFhx_0fgWH6B"
      },
      "source": [
        "#Análisis descriptivo - COVID 19"
      ]
    },
    {
      "cell_type": "code",
      "metadata": {
        "id": "cqcUp-8pWIRz"
      },
      "source": [
        "from google.colab import files"
      ],
      "execution_count": null,
      "outputs": []
    },
    {
      "cell_type": "code",
      "metadata": {
        "id": "fiX_JobdOzVV"
      },
      "source": [
        "!pip install -q kaggle"
      ],
      "execution_count": null,
      "outputs": []
    },
    {
      "cell_type": "code",
      "metadata": {
        "colab": {
          "resources": {
            "http://localhost:8080/nbextensions/google.colab/files.js": {
              "data": "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",
              "ok": true,
              "headers": [
                [
                  "content-type",
                  "application/javascript"
                ]
              ],
              "status": 200,
              "status_text": ""
            }
          },
          "base_uri": "https://localhost:8080/",
          "height": 70
        },
        "id": "Ibsk76TAO2wD",
        "outputId": "8f26dd24-7f98-417c-d061-41fddbd85abf"
      },
      "source": [
        "uploaded = files.upload()"
      ],
      "execution_count": null,
      "outputs": [
        {
          "output_type": "display_data",
          "data": {
            "text/html": [
              "\n",
              "     <input type=\"file\" id=\"files-a44565f5-9870-4afc-8e31-ad2fc88a5c65\" name=\"files[]\" multiple disabled\n",
              "        style=\"border:none\" />\n",
              "     <output id=\"result-a44565f5-9870-4afc-8e31-ad2fc88a5c65\">\n",
              "      Upload widget is only available when the cell has been executed in the\n",
              "      current browser session. Please rerun this cell to enable.\n",
              "      </output>\n",
              "      <script src=\"/nbextensions/google.colab/files.js\"></script> "
            ],
            "text/plain": [
              "<IPython.core.display.HTML object>"
            ]
          },
          "metadata": {
            "tags": []
          }
        },
        {
          "output_type": "stream",
          "text": [
            "Saving kaggle.json to kaggle.json\n"
          ],
          "name": "stdout"
        }
      ]
    },
    {
      "cell_type": "code",
      "metadata": {
        "colab": {
          "base_uri": "https://localhost:8080/"
        },
        "id": "WX1GiyJgQW7K",
        "outputId": "3c08fbe4-fc0d-40da-96aa-c7754ad959cf"
      },
      "source": [
        "!cp /content/kaggle.json ~/.kaggle/kaggle.json\r\n",
        "!kaggle datasets download -d arashnic/covid19-case-surveillance-public-use-dataset\r\n",
        "!ls"
      ],
      "execution_count": null,
      "outputs": [
        {
          "output_type": "stream",
          "text": [
            "Warning: Your Kaggle API key is readable by other users on this system! To fix this, you can run 'chmod 600 /root/.kaggle/kaggle.json'\n",
            "Downloading covid19-case-surveillance-public-use-dataset.zip to /content\n",
            " 87% 40.0M/46.0M [00:00<00:00, 85.3MB/s]\n",
            "100% 46.0M/46.0M [00:00<00:00, 104MB/s] \n",
            "covid19-case-surveillance-public-use-dataset.zip  kaggle.json  sample_data\n"
          ],
          "name": "stdout"
        }
      ]
    },
    {
      "cell_type": "code",
      "metadata": {
        "id": "GMFvoIM1Xk-p"
      },
      "source": [
        "import numpy as np \r\n",
        "import pandas as pd \r\n",
        "import seaborn as sns \r\n",
        "import matplotlib.pyplot as plt\r\n",
        "from matplotlib.ticker import FuncFormatter"
      ],
      "execution_count": null,
      "outputs": []
    },
    {
      "cell_type": "code",
      "metadata": {
        "colab": {
          "base_uri": "https://localhost:8080/"
        },
        "id": "BVoLu272TFmh",
        "outputId": "f2b1ddbe-58e5-46b5-dfb6-ed6f88768e0c"
      },
      "source": [
        "data = pd.read_csv('covid19-case-surveillance-public-use-dataset.zip', compression='zip', header=0, sep=',', quotechar='\"')"
      ],
      "execution_count": null,
      "outputs": [
        {
          "output_type": "stream",
          "text": [
            "/usr/local/lib/python3.6/dist-packages/IPython/core/interactiveshell.py:2718: DtypeWarning: Columns (1) have mixed types.Specify dtype option on import or set low_memory=False.\n",
            "  interactivity=interactivity, compiler=compiler, result=result)\n"
          ],
          "name": "stderr"
        }
      ]
    },
    {
      "cell_type": "markdown",
      "metadata": {
        "id": "WHfY2btPVrIq"
      },
      "source": [
        "#Descripción de los atributos del dataset\r\n",
        "* **cdc_report_dt**= Fecha en que se informó el CDC (Center for Disease Control and Prevention)\r\n",
        "* **pos_spec_dt**= Fecha de la primera recolección de muestras positivas\r\n",
        "* **onset_dt**= ¿Cuál fue la fecha de inicio?\r\n",
        "* **current_status**= ¿Cuál es el estado actual de esta persona?\r\n",
        "* **sex**= género\r\n",
        "* **age_group**= Categorías de grupos por edad\r\n",
        "* **Race and ethnicity (combined)**= caso demográfico\r\n",
        "* **hosp_yn**= ¿Fue hospitalizado el paciente?\r\n",
        "* **icu_yn**= ¿El paciente fue ingresado en una unidad de cuidados intensivos (UCI)?\r\n",
        "* **death_yn**= ¿Murió el paciente como consecuencia de esta enfermedad?\r\n",
        "* **medcond_yn**=¿Tenían alguna condición médica subyacente y / o conductas de riesgo?"
      ]
    },
    {
      "cell_type": "markdown",
      "metadata": {
        "id": "2ejnq-VNV5b0"
      },
      "source": [
        "#Primero, recategorizamos correctamente las variables y damos una exploración preliminar de los datos.\r\n",
        "Fechas : cdc_report_dt, pos_spec_dt, onset_dt <br>\r\n",
        "Nominales : sex, current_status, Race and ethnicity <br>\r\n",
        "Ordinales : age_group <br>\r\n",
        "Targets : hosp_yn, icu_yn, death_yn, medcod_yn"
      ]
    },
    {
      "cell_type": "code",
      "metadata": {
        "colab": {
          "base_uri": "https://localhost:8080/",
          "height": 191
        },
        "id": "RzLI1uqHTMBR",
        "outputId": "d03869be-dc0c-4360-f58f-c836091bd1a1"
      },
      "source": [
        "data.head()"
      ],
      "execution_count": null,
      "outputs": [
        {
          "output_type": "execute_result",
          "data": {
            "text/html": [
              "<div>\n",
              "<style scoped>\n",
              "    .dataframe tbody tr th:only-of-type {\n",
              "        vertical-align: middle;\n",
              "    }\n",
              "\n",
              "    .dataframe tbody tr th {\n",
              "        vertical-align: top;\n",
              "    }\n",
              "\n",
              "    .dataframe thead th {\n",
              "        text-align: right;\n",
              "    }\n",
              "</style>\n",
              "<table border=\"1\" class=\"dataframe\">\n",
              "  <thead>\n",
              "    <tr style=\"text-align: right;\">\n",
              "      <th></th>\n",
              "      <th>cdc_report_dt</th>\n",
              "      <th>pos_spec_dt</th>\n",
              "      <th>onset_dt</th>\n",
              "      <th>current_status</th>\n",
              "      <th>sex</th>\n",
              "      <th>age_group</th>\n",
              "      <th>Race and ethnicity (combined)</th>\n",
              "      <th>hosp_yn</th>\n",
              "      <th>icu_yn</th>\n",
              "      <th>death_yn</th>\n",
              "      <th>medcond_yn</th>\n",
              "    </tr>\n",
              "  </thead>\n",
              "  <tbody>\n",
              "    <tr>\n",
              "      <th>0</th>\n",
              "      <td>2020/11/10</td>\n",
              "      <td>2020/11/10</td>\n",
              "      <td>NaN</td>\n",
              "      <td>Laboratory-confirmed case</td>\n",
              "      <td>Male</td>\n",
              "      <td>10 - 19 Years</td>\n",
              "      <td>Black, Non-Hispanic</td>\n",
              "      <td>No</td>\n",
              "      <td>Unknown</td>\n",
              "      <td>No</td>\n",
              "      <td>No</td>\n",
              "    </tr>\n",
              "    <tr>\n",
              "      <th>1</th>\n",
              "      <td>2020/11/14</td>\n",
              "      <td>2020/11/10</td>\n",
              "      <td>2020/11/10</td>\n",
              "      <td>Laboratory-confirmed case</td>\n",
              "      <td>Male</td>\n",
              "      <td>10 - 19 Years</td>\n",
              "      <td>Black, Non-Hispanic</td>\n",
              "      <td>No</td>\n",
              "      <td>No</td>\n",
              "      <td>No</td>\n",
              "      <td>No</td>\n",
              "    </tr>\n",
              "    <tr>\n",
              "      <th>2</th>\n",
              "      <td>2020/11/19</td>\n",
              "      <td>2020/11/10</td>\n",
              "      <td>2020/11/09</td>\n",
              "      <td>Laboratory-confirmed case</td>\n",
              "      <td>Male</td>\n",
              "      <td>10 - 19 Years</td>\n",
              "      <td>Black, Non-Hispanic</td>\n",
              "      <td>No</td>\n",
              "      <td>No</td>\n",
              "      <td>No</td>\n",
              "      <td>No</td>\n",
              "    </tr>\n",
              "    <tr>\n",
              "      <th>3</th>\n",
              "      <td>2020/11/14</td>\n",
              "      <td>2020/11/10</td>\n",
              "      <td>NaN</td>\n",
              "      <td>Laboratory-confirmed case</td>\n",
              "      <td>Male</td>\n",
              "      <td>10 - 19 Years</td>\n",
              "      <td>Black, Non-Hispanic</td>\n",
              "      <td>Missing</td>\n",
              "      <td>Missing</td>\n",
              "      <td>No</td>\n",
              "      <td>Missing</td>\n",
              "    </tr>\n",
              "    <tr>\n",
              "      <th>4</th>\n",
              "      <td>2020/11/13</td>\n",
              "      <td>2020/11/10</td>\n",
              "      <td>2020/11/10</td>\n",
              "      <td>Laboratory-confirmed case</td>\n",
              "      <td>Male</td>\n",
              "      <td>10 - 19 Years</td>\n",
              "      <td>Black, Non-Hispanic</td>\n",
              "      <td>No</td>\n",
              "      <td>No</td>\n",
              "      <td>No</td>\n",
              "      <td>Yes</td>\n",
              "    </tr>\n",
              "  </tbody>\n",
              "</table>\n",
              "</div>"
            ],
            "text/plain": [
              "  cdc_report_dt pos_spec_dt    onset_dt  ...   icu_yn death_yn medcond_yn\n",
              "0    2020/11/10  2020/11/10         NaN  ...  Unknown       No         No\n",
              "1    2020/11/14  2020/11/10  2020/11/10  ...       No       No         No\n",
              "2    2020/11/19  2020/11/10  2020/11/09  ...       No       No         No\n",
              "3    2020/11/14  2020/11/10         NaN  ...  Missing       No    Missing\n",
              "4    2020/11/13  2020/11/10  2020/11/10  ...       No       No        Yes\n",
              "\n",
              "[5 rows x 11 columns]"
            ]
          },
          "metadata": {
            "tags": []
          },
          "execution_count": 8
        }
      ]
    },
    {
      "cell_type": "code",
      "metadata": {
        "colab": {
          "base_uri": "https://localhost:8080/"
        },
        "id": "G8B7-5xBqAvZ",
        "outputId": "6c55e40f-bb74-4b1e-e5ee-d4f3da1413dc"
      },
      "source": [
        "data.dtypes"
      ],
      "execution_count": null,
      "outputs": [
        {
          "output_type": "execute_result",
          "data": {
            "text/plain": [
              "cdc_report_dt                    object\n",
              "pos_spec_dt                      object\n",
              "onset_dt                         object\n",
              "current_status                   object\n",
              "sex                              object\n",
              "age_group                        object\n",
              "Race and ethnicity (combined)    object\n",
              "hosp_yn                          object\n",
              "icu_yn                           object\n",
              "death_yn                         object\n",
              "medcond_yn                       object\n",
              "dtype: object"
            ]
          },
          "metadata": {
            "tags": []
          },
          "execution_count": 9
        }
      ]
    },
    {
      "cell_type": "code",
      "metadata": {
        "id": "ehTLDy7tqXv0"
      },
      "source": [
        "data['cdc_report_dt'] = pd.to_datetime(data['cdc_report_dt'])\r\n",
        "data['pos_spec_dt'] = pd.to_datetime(data['pos_spec_dt'])\r\n",
        "data['onset_dt'] = pd.to_datetime(data['onset_dt'])"
      ],
      "execution_count": null,
      "outputs": []
    },
    {
      "cell_type": "code",
      "metadata": {
        "id": "gCfgh9cxsf8D"
      },
      "source": [
        "edad_dict = ['0 - 9 Years','10 - 19 Years','20 - 29 Years','30 - 39 Years','40 - 49 Years',\r\n",
        "            '50 - 59 Years','60 - 69 Years','70 - 79 Years','80+ Years','Unknown']\r\n",
        "data['age_group'] = pd.Categorical(data['age_group'],categories=edad_dict,ordered=True)"
      ],
      "execution_count": null,
      "outputs": []
    },
    {
      "cell_type": "code",
      "metadata": {
        "colab": {
          "base_uri": "https://localhost:8080/"
        },
        "id": "ZQzD3S5Uv_hy",
        "outputId": "fa3e39d7-3b3e-4297-b12e-24abc76982b8"
      },
      "source": [
        "data.dtypes"
      ],
      "execution_count": null,
      "outputs": [
        {
          "output_type": "execute_result",
          "data": {
            "text/plain": [
              "cdc_report_dt                    datetime64[ns]\n",
              "pos_spec_dt                      datetime64[ns]\n",
              "onset_dt                         datetime64[ns]\n",
              "current_status                           object\n",
              "sex                                      object\n",
              "age_group                              category\n",
              "Race and ethnicity (combined)            object\n",
              "hosp_yn                                  object\n",
              "icu_yn                                   object\n",
              "death_yn                                 object\n",
              "medcond_yn                               object\n",
              "dtype: object"
            ]
          },
          "metadata": {
            "tags": []
          },
          "execution_count": 12
        }
      ]
    },
    {
      "cell_type": "markdown",
      "metadata": {
        "id": "tSvjgqxYmOOY"
      },
      "source": [
        "Desagrupamos la variable conjunta de etnia y raza para ver si existe info. que rescatar: solo vale la pena la raza, ya que etnia esta seteado a NA o 'Non-Hispanic', recategorizamos los  'Missing' a 'Unknown'."
      ]
    },
    {
      "cell_type": "code",
      "metadata": {
        "colab": {
          "base_uri": "https://localhost:8080/",
          "height": 223
        },
        "id": "b2YZBYJJiQOy",
        "outputId": "0c888cbd-f2de-4e41-8b0c-12b5873406a3"
      },
      "source": [
        "data['Race'], data['Ethnicity'] = data['Race and ethnicity (combined)'].str.split(', ',1).str\r\n",
        "data.head()"
      ],
      "execution_count": null,
      "outputs": [
        {
          "output_type": "stream",
          "text": [
            "/usr/local/lib/python3.6/dist-packages/ipykernel_launcher.py:1: FutureWarning: Columnar iteration over characters will be deprecated in future releases.\n",
            "  \"\"\"Entry point for launching an IPython kernel.\n"
          ],
          "name": "stderr"
        },
        {
          "output_type": "execute_result",
          "data": {
            "text/html": [
              "<div>\n",
              "<style scoped>\n",
              "    .dataframe tbody tr th:only-of-type {\n",
              "        vertical-align: middle;\n",
              "    }\n",
              "\n",
              "    .dataframe tbody tr th {\n",
              "        vertical-align: top;\n",
              "    }\n",
              "\n",
              "    .dataframe thead th {\n",
              "        text-align: right;\n",
              "    }\n",
              "</style>\n",
              "<table border=\"1\" class=\"dataframe\">\n",
              "  <thead>\n",
              "    <tr style=\"text-align: right;\">\n",
              "      <th></th>\n",
              "      <th>cdc_report_dt</th>\n",
              "      <th>pos_spec_dt</th>\n",
              "      <th>onset_dt</th>\n",
              "      <th>current_status</th>\n",
              "      <th>sex</th>\n",
              "      <th>age_group</th>\n",
              "      <th>Race and ethnicity (combined)</th>\n",
              "      <th>hosp_yn</th>\n",
              "      <th>icu_yn</th>\n",
              "      <th>death_yn</th>\n",
              "      <th>medcond_yn</th>\n",
              "      <th>Race</th>\n",
              "      <th>Ethnicity</th>\n",
              "    </tr>\n",
              "  </thead>\n",
              "  <tbody>\n",
              "    <tr>\n",
              "      <th>0</th>\n",
              "      <td>2020-11-10</td>\n",
              "      <td>2020-11-10</td>\n",
              "      <td>NaT</td>\n",
              "      <td>Laboratory-confirmed case</td>\n",
              "      <td>Male</td>\n",
              "      <td>10 - 19 Years</td>\n",
              "      <td>Black, Non-Hispanic</td>\n",
              "      <td>No</td>\n",
              "      <td>Unknown</td>\n",
              "      <td>No</td>\n",
              "      <td>No</td>\n",
              "      <td>Black</td>\n",
              "      <td>Non-Hispanic</td>\n",
              "    </tr>\n",
              "    <tr>\n",
              "      <th>1</th>\n",
              "      <td>2020-11-14</td>\n",
              "      <td>2020-11-10</td>\n",
              "      <td>2020-11-10</td>\n",
              "      <td>Laboratory-confirmed case</td>\n",
              "      <td>Male</td>\n",
              "      <td>10 - 19 Years</td>\n",
              "      <td>Black, Non-Hispanic</td>\n",
              "      <td>No</td>\n",
              "      <td>No</td>\n",
              "      <td>No</td>\n",
              "      <td>No</td>\n",
              "      <td>Black</td>\n",
              "      <td>Non-Hispanic</td>\n",
              "    </tr>\n",
              "    <tr>\n",
              "      <th>2</th>\n",
              "      <td>2020-11-19</td>\n",
              "      <td>2020-11-10</td>\n",
              "      <td>2020-11-09</td>\n",
              "      <td>Laboratory-confirmed case</td>\n",
              "      <td>Male</td>\n",
              "      <td>10 - 19 Years</td>\n",
              "      <td>Black, Non-Hispanic</td>\n",
              "      <td>No</td>\n",
              "      <td>No</td>\n",
              "      <td>No</td>\n",
              "      <td>No</td>\n",
              "      <td>Black</td>\n",
              "      <td>Non-Hispanic</td>\n",
              "    </tr>\n",
              "    <tr>\n",
              "      <th>3</th>\n",
              "      <td>2020-11-14</td>\n",
              "      <td>2020-11-10</td>\n",
              "      <td>NaT</td>\n",
              "      <td>Laboratory-confirmed case</td>\n",
              "      <td>Male</td>\n",
              "      <td>10 - 19 Years</td>\n",
              "      <td>Black, Non-Hispanic</td>\n",
              "      <td>Missing</td>\n",
              "      <td>Missing</td>\n",
              "      <td>No</td>\n",
              "      <td>Missing</td>\n",
              "      <td>Black</td>\n",
              "      <td>Non-Hispanic</td>\n",
              "    </tr>\n",
              "    <tr>\n",
              "      <th>4</th>\n",
              "      <td>2020-11-13</td>\n",
              "      <td>2020-11-10</td>\n",
              "      <td>2020-11-10</td>\n",
              "      <td>Laboratory-confirmed case</td>\n",
              "      <td>Male</td>\n",
              "      <td>10 - 19 Years</td>\n",
              "      <td>Black, Non-Hispanic</td>\n",
              "      <td>No</td>\n",
              "      <td>No</td>\n",
              "      <td>No</td>\n",
              "      <td>Yes</td>\n",
              "      <td>Black</td>\n",
              "      <td>Non-Hispanic</td>\n",
              "    </tr>\n",
              "  </tbody>\n",
              "</table>\n",
              "</div>"
            ],
            "text/plain": [
              "  cdc_report_dt pos_spec_dt   onset_dt  ... medcond_yn   Race     Ethnicity\n",
              "0    2020-11-10  2020-11-10        NaT  ...         No  Black  Non-Hispanic\n",
              "1    2020-11-14  2020-11-10 2020-11-10  ...         No  Black  Non-Hispanic\n",
              "2    2020-11-19  2020-11-10 2020-11-09  ...         No  Black  Non-Hispanic\n",
              "3    2020-11-14  2020-11-10        NaT  ...    Missing  Black  Non-Hispanic\n",
              "4    2020-11-13  2020-11-10 2020-11-10  ...        Yes  Black  Non-Hispanic\n",
              "\n",
              "[5 rows x 13 columns]"
            ]
          },
          "metadata": {
            "tags": []
          },
          "execution_count": 13
        }
      ]
    },
    {
      "cell_type": "code",
      "metadata": {
        "colab": {
          "base_uri": "https://localhost:8080/"
        },
        "id": "IDmj3BbswQBf",
        "outputId": "6e293b86-3327-4288-ef1e-a44b2eb5e04a"
      },
      "source": [
        "data['Race'].value_counts(normalize=True)"
      ],
      "execution_count": null,
      "outputs": [
        {
          "output_type": "execute_result",
          "data": {
            "text/plain": [
              "Unknown                                   0.330893\n",
              "White                                     0.309267\n",
              "Hispanic/Latino                           0.142264\n",
              "Black                                     0.087636\n",
              "Missing                                   0.071566\n",
              "Multiple/Other                            0.032184\n",
              "Asian                                     0.017023\n",
              "American Indian/Alaska Native             0.007120\n",
              "Native Hawaiian/Other Pacific Islander    0.002048\n",
              "Name: Race, dtype: float64"
            ]
          },
          "metadata": {
            "tags": []
          },
          "execution_count": 14
        }
      ]
    },
    {
      "cell_type": "markdown",
      "metadata": {
        "id": "sxxS7Oss1bdZ"
      },
      "source": [
        "# Nueva sección"
      ]
    },
    {
      "cell_type": "code",
      "metadata": {
        "colab": {
          "base_uri": "https://localhost:8080/"
        },
        "id": "ar0Qa6_Zwaqp",
        "outputId": "46ea186e-d46f-4995-fb17-7b6eed463673"
      },
      "source": [
        "data['Ethnicity'].value_counts(normalize=True)"
      ],
      "execution_count": null,
      "outputs": [
        {
          "output_type": "execute_result",
          "data": {
            "text/plain": [
              "Non-Hispanic    1.0\n",
              "Name: Ethnicity, dtype: float64"
            ]
          },
          "metadata": {
            "tags": []
          },
          "execution_count": 15
        }
      ]
    },
    {
      "cell_type": "code",
      "metadata": {
        "id": "16LQonj8kAG9"
      },
      "source": [
        "data['Race'] = ['Unknown' if x=='Missing' else x for x in data['Race']]\r\n",
        "data = data.drop(['Race and ethnicity (combined)','Ethnicity'],axis=1)"
      ],
      "execution_count": null,
      "outputs": []
    },
    {
      "cell_type": "code",
      "metadata": {
        "colab": {
          "base_uri": "https://localhost:8080/",
          "height": 191
        },
        "id": "qfRRFp2GnFZi",
        "outputId": "9fe9899c-5f64-4e45-9c46-c390fafe0571"
      },
      "source": [
        "data.head()"
      ],
      "execution_count": null,
      "outputs": [
        {
          "output_type": "execute_result",
          "data": {
            "text/html": [
              "<div>\n",
              "<style scoped>\n",
              "    .dataframe tbody tr th:only-of-type {\n",
              "        vertical-align: middle;\n",
              "    }\n",
              "\n",
              "    .dataframe tbody tr th {\n",
              "        vertical-align: top;\n",
              "    }\n",
              "\n",
              "    .dataframe thead th {\n",
              "        text-align: right;\n",
              "    }\n",
              "</style>\n",
              "<table border=\"1\" class=\"dataframe\">\n",
              "  <thead>\n",
              "    <tr style=\"text-align: right;\">\n",
              "      <th></th>\n",
              "      <th>cdc_report_dt</th>\n",
              "      <th>pos_spec_dt</th>\n",
              "      <th>onset_dt</th>\n",
              "      <th>current_status</th>\n",
              "      <th>sex</th>\n",
              "      <th>age_group</th>\n",
              "      <th>hosp_yn</th>\n",
              "      <th>icu_yn</th>\n",
              "      <th>death_yn</th>\n",
              "      <th>medcond_yn</th>\n",
              "      <th>Race</th>\n",
              "    </tr>\n",
              "  </thead>\n",
              "  <tbody>\n",
              "    <tr>\n",
              "      <th>0</th>\n",
              "      <td>2020-11-10</td>\n",
              "      <td>2020-11-10</td>\n",
              "      <td>NaT</td>\n",
              "      <td>Laboratory-confirmed case</td>\n",
              "      <td>Male</td>\n",
              "      <td>10 - 19 Years</td>\n",
              "      <td>No</td>\n",
              "      <td>Unknown</td>\n",
              "      <td>No</td>\n",
              "      <td>No</td>\n",
              "      <td>Black</td>\n",
              "    </tr>\n",
              "    <tr>\n",
              "      <th>1</th>\n",
              "      <td>2020-11-14</td>\n",
              "      <td>2020-11-10</td>\n",
              "      <td>2020-11-10</td>\n",
              "      <td>Laboratory-confirmed case</td>\n",
              "      <td>Male</td>\n",
              "      <td>10 - 19 Years</td>\n",
              "      <td>No</td>\n",
              "      <td>No</td>\n",
              "      <td>No</td>\n",
              "      <td>No</td>\n",
              "      <td>Black</td>\n",
              "    </tr>\n",
              "    <tr>\n",
              "      <th>2</th>\n",
              "      <td>2020-11-19</td>\n",
              "      <td>2020-11-10</td>\n",
              "      <td>2020-11-09</td>\n",
              "      <td>Laboratory-confirmed case</td>\n",
              "      <td>Male</td>\n",
              "      <td>10 - 19 Years</td>\n",
              "      <td>No</td>\n",
              "      <td>No</td>\n",
              "      <td>No</td>\n",
              "      <td>No</td>\n",
              "      <td>Black</td>\n",
              "    </tr>\n",
              "    <tr>\n",
              "      <th>3</th>\n",
              "      <td>2020-11-14</td>\n",
              "      <td>2020-11-10</td>\n",
              "      <td>NaT</td>\n",
              "      <td>Laboratory-confirmed case</td>\n",
              "      <td>Male</td>\n",
              "      <td>10 - 19 Years</td>\n",
              "      <td>Missing</td>\n",
              "      <td>Missing</td>\n",
              "      <td>No</td>\n",
              "      <td>Missing</td>\n",
              "      <td>Black</td>\n",
              "    </tr>\n",
              "    <tr>\n",
              "      <th>4</th>\n",
              "      <td>2020-11-13</td>\n",
              "      <td>2020-11-10</td>\n",
              "      <td>2020-11-10</td>\n",
              "      <td>Laboratory-confirmed case</td>\n",
              "      <td>Male</td>\n",
              "      <td>10 - 19 Years</td>\n",
              "      <td>No</td>\n",
              "      <td>No</td>\n",
              "      <td>No</td>\n",
              "      <td>Yes</td>\n",
              "      <td>Black</td>\n",
              "    </tr>\n",
              "  </tbody>\n",
              "</table>\n",
              "</div>"
            ],
            "text/plain": [
              "  cdc_report_dt pos_spec_dt   onset_dt  ... death_yn medcond_yn   Race\n",
              "0    2020-11-10  2020-11-10        NaT  ...       No         No  Black\n",
              "1    2020-11-14  2020-11-10 2020-11-10  ...       No         No  Black\n",
              "2    2020-11-19  2020-11-10 2020-11-09  ...       No         No  Black\n",
              "3    2020-11-14  2020-11-10        NaT  ...       No    Missing  Black\n",
              "4    2020-11-13  2020-11-10 2020-11-10  ...       No        Yes  Black\n",
              "\n",
              "[5 rows x 11 columns]"
            ]
          },
          "metadata": {
            "tags": []
          },
          "execution_count": 17
        }
      ]
    },
    {
      "cell_type": "code",
      "metadata": {
        "id": "8MrJu7x7nOoy"
      },
      "source": [
        "for i in data.columns[3:]:\r\n",
        "  print('Nulos    '+ str(data[i].isnull().sum()))\r\n",
        "  print(data[i].value_counts(normalize=True))\r\n",
        "  print('-------------------------------')"
      ],
      "execution_count": null,
      "outputs": []
    },
    {
      "cell_type": "code",
      "metadata": {
        "id": "cf2UE8U8xG5B"
      },
      "source": [
        "data['sex'] = ['Unknown' if x=='Missing' else x for x in data['sex']]"
      ],
      "execution_count": null,
      "outputs": []
    },
    {
      "cell_type": "code",
      "metadata": {
        "colab": {
          "base_uri": "https://localhost:8080/"
        },
        "id": "ENtCYPEFcnLk",
        "outputId": "20842cd7-0fd3-4de9-8ab0-da599641af04"
      },
      "source": [
        "print(data.shape)"
      ],
      "execution_count": null,
      "outputs": [
        {
          "output_type": "stream",
          "text": [
            "(8405079, 11)\n"
          ],
          "name": "stdout"
        }
      ]
    },
    {
      "cell_type": "code",
      "metadata": {
        "colab": {
          "base_uri": "https://localhost:8080/"
        },
        "id": "MGcbx-xCUu5-",
        "outputId": "d9c9aa90-efdf-4f70-c300-66a8c63d8a55"
      },
      "source": [
        "data.columns.values.tolist()"
      ],
      "execution_count": null,
      "outputs": [
        {
          "output_type": "execute_result",
          "data": {
            "text/plain": [
              "['cdc_report_dt',\n",
              " 'pos_spec_dt',\n",
              " 'onset_dt',\n",
              " 'current_status',\n",
              " 'sex',\n",
              " 'age_group',\n",
              " 'hosp_yn',\n",
              " 'icu_yn',\n",
              " 'death_yn',\n",
              " 'medcond_yn',\n",
              " 'Race']"
            ]
          },
          "metadata": {
            "tags": []
          },
          "execution_count": 20
        }
      ]
    },
    {
      "cell_type": "code",
      "metadata": {
        "colab": {
          "base_uri": "https://localhost:8080/",
          "height": 337
        },
        "id": "_m-z6_oQVrxD",
        "outputId": "baa3bfe1-98fd-4d94-d3a9-7350b59bfbef"
      },
      "source": [
        "data.describe()"
      ],
      "execution_count": null,
      "outputs": [
        {
          "output_type": "stream",
          "text": [
            "/usr/local/lib/python3.6/dist-packages/ipykernel_launcher.py:1: FutureWarning: Treating datetime data as categorical rather than numeric in `.describe` is deprecated and will be removed in a future version of pandas. Specify `datetime_is_numeric=True` to silence this warning and adopt the future behavior now.\n",
            "  \"\"\"Entry point for launching an IPython kernel.\n",
            "/usr/local/lib/python3.6/dist-packages/ipykernel_launcher.py:1: FutureWarning: Treating datetime data as categorical rather than numeric in `.describe` is deprecated and will be removed in a future version of pandas. Specify `datetime_is_numeric=True` to silence this warning and adopt the future behavior now.\n",
            "  \"\"\"Entry point for launching an IPython kernel.\n",
            "/usr/local/lib/python3.6/dist-packages/ipykernel_launcher.py:1: FutureWarning: Treating datetime data as categorical rather than numeric in `.describe` is deprecated and will be removed in a future version of pandas. Specify `datetime_is_numeric=True` to silence this warning and adopt the future behavior now.\n",
            "  \"\"\"Entry point for launching an IPython kernel.\n"
          ],
          "name": "stderr"
        },
        {
          "output_type": "execute_result",
          "data": {
            "text/html": [
              "<div>\n",
              "<style scoped>\n",
              "    .dataframe tbody tr th:only-of-type {\n",
              "        vertical-align: middle;\n",
              "    }\n",
              "\n",
              "    .dataframe tbody tr th {\n",
              "        vertical-align: top;\n",
              "    }\n",
              "\n",
              "    .dataframe thead th {\n",
              "        text-align: right;\n",
              "    }\n",
              "</style>\n",
              "<table border=\"1\" class=\"dataframe\">\n",
              "  <thead>\n",
              "    <tr style=\"text-align: right;\">\n",
              "      <th></th>\n",
              "      <th>cdc_report_dt</th>\n",
              "      <th>pos_spec_dt</th>\n",
              "      <th>onset_dt</th>\n",
              "      <th>current_status</th>\n",
              "      <th>sex</th>\n",
              "      <th>age_group</th>\n",
              "      <th>hosp_yn</th>\n",
              "      <th>icu_yn</th>\n",
              "      <th>death_yn</th>\n",
              "      <th>medcond_yn</th>\n",
              "      <th>Race</th>\n",
              "    </tr>\n",
              "  </thead>\n",
              "  <tbody>\n",
              "    <tr>\n",
              "      <th>count</th>\n",
              "      <td>8405079</td>\n",
              "      <td>2870789</td>\n",
              "      <td>4395957</td>\n",
              "      <td>8405079</td>\n",
              "      <td>8405061</td>\n",
              "      <td>8404990</td>\n",
              "      <td>8405079</td>\n",
              "      <td>8405079</td>\n",
              "      <td>8405079</td>\n",
              "      <td>8405079</td>\n",
              "      <td>8405072</td>\n",
              "    </tr>\n",
              "    <tr>\n",
              "      <th>unique</th>\n",
              "      <td>321</td>\n",
              "      <td>313</td>\n",
              "      <td>338</td>\n",
              "      <td>2</td>\n",
              "      <td>4</td>\n",
              "      <td>10</td>\n",
              "      <td>4</td>\n",
              "      <td>4</td>\n",
              "      <td>4</td>\n",
              "      <td>4</td>\n",
              "      <td>8</td>\n",
              "    </tr>\n",
              "    <tr>\n",
              "      <th>top</th>\n",
              "      <td>2020-06-24 00:00:00</td>\n",
              "      <td>2020-11-09 00:00:00</td>\n",
              "      <td>2020-11-02 00:00:00</td>\n",
              "      <td>Laboratory-confirmed case</td>\n",
              "      <td>Female</td>\n",
              "      <td>20 - 29 Years</td>\n",
              "      <td>No</td>\n",
              "      <td>Missing</td>\n",
              "      <td>No</td>\n",
              "      <td>Missing</td>\n",
              "      <td>Unknown</td>\n",
              "    </tr>\n",
              "    <tr>\n",
              "      <th>freq</th>\n",
              "      <td>155857</td>\n",
              "      <td>50595</td>\n",
              "      <td>49527</td>\n",
              "      <td>7910118</td>\n",
              "      <td>4340898</td>\n",
              "      <td>1635264</td>\n",
              "      <td>3502556</td>\n",
              "      <td>6178281</td>\n",
              "      <td>3690813</td>\n",
              "      <td>6063390</td>\n",
              "      <td>3382695</td>\n",
              "    </tr>\n",
              "    <tr>\n",
              "      <th>first</th>\n",
              "      <td>2020-01-01 00:00:00</td>\n",
              "      <td>2020-01-01 00:00:00</td>\n",
              "      <td>2020-01-01 00:00:00</td>\n",
              "      <td>NaN</td>\n",
              "      <td>NaN</td>\n",
              "      <td>NaN</td>\n",
              "      <td>NaN</td>\n",
              "      <td>NaN</td>\n",
              "      <td>NaN</td>\n",
              "      <td>NaN</td>\n",
              "      <td>NaN</td>\n",
              "    </tr>\n",
              "    <tr>\n",
              "      <th>last</th>\n",
              "      <td>2020-11-19 00:00:00</td>\n",
              "      <td>2020-12-02 00:00:00</td>\n",
              "      <td>2020-12-03 00:00:00</td>\n",
              "      <td>NaN</td>\n",
              "      <td>NaN</td>\n",
              "      <td>NaN</td>\n",
              "      <td>NaN</td>\n",
              "      <td>NaN</td>\n",
              "      <td>NaN</td>\n",
              "      <td>NaN</td>\n",
              "      <td>NaN</td>\n",
              "    </tr>\n",
              "  </tbody>\n",
              "</table>\n",
              "</div>"
            ],
            "text/plain": [
              "              cdc_report_dt          pos_spec_dt  ... medcond_yn     Race\n",
              "count               8405079              2870789  ...    8405079  8405072\n",
              "unique                  321                  313  ...          4        8\n",
              "top     2020-06-24 00:00:00  2020-11-09 00:00:00  ...    Missing  Unknown\n",
              "freq                 155857                50595  ...    6063390  3382695\n",
              "first   2020-01-01 00:00:00  2020-01-01 00:00:00  ...        NaN      NaN\n",
              "last    2020-11-19 00:00:00  2020-12-02 00:00:00  ...        NaN      NaN\n",
              "\n",
              "[6 rows x 11 columns]"
            ]
          },
          "metadata": {
            "tags": []
          },
          "execution_count": 21
        }
      ]
    },
    {
      "cell_type": "markdown",
      "metadata": {
        "id": "m2aK4YDvX3t-"
      },
      "source": [
        "Revisamos si es que hay valores faltantes (null)"
      ]
    },
    {
      "cell_type": "code",
      "metadata": {
        "colab": {
          "base_uri": "https://localhost:8080/"
        },
        "id": "UJQFnZWEXDx0",
        "outputId": "14cd2c53-9378-4d1a-d736-9d0971415dfe"
      },
      "source": [
        "data.isnull().sum(axis=0)/data.shape[0]*100"
      ],
      "execution_count": null,
      "outputs": [
        {
          "output_type": "execute_result",
          "data": {
            "text/plain": [
              "cdc_report_dt      0.000000\n",
              "pos_spec_dt       65.844592\n",
              "onset_dt          47.698802\n",
              "current_status     0.000000\n",
              "sex                0.000214\n",
              "age_group          0.001059\n",
              "hosp_yn            0.000000\n",
              "icu_yn             0.000000\n",
              "death_yn           0.000000\n",
              "medcond_yn         0.000000\n",
              "Race               0.000083\n",
              "dtype: float64"
            ]
          },
          "metadata": {
            "tags": []
          },
          "execution_count": 22
        }
      ]
    },
    {
      "cell_type": "markdown",
      "metadata": {
        "id": "l9t4A0tYg2zk"
      },
      "source": [
        "Veamos la curva de casos reportados, positivos y fallecidos al mismo tiempo"
      ]
    },
    {
      "cell_type": "code",
      "metadata": {
        "id": "YQj4yHnzT9H0"
      },
      "source": [
        "tabla_fechas_cdc = data['cdc_report_dt'].value_counts().sort_index(ascending=True).cumsum() # Curva acumulada de casos reportados\r\n",
        "tabla_fechas_pos = data['pos_spec_dt'].value_counts().sort_index(ascending=True).cumsum() # Curva acumulada de positivos\r\n",
        "tabla_fechas_muertos = data[data['death_yn']=='Yes']['cdc_report_dt'].value_counts().sort_index(ascending=True).cumsum() # Curva acumulada de casos fallecidos"
      ],
      "execution_count": null,
      "outputs": []
    },
    {
      "cell_type": "code",
      "metadata": {
        "id": "ZuzTL89Jho1r"
      },
      "source": [
        "#tabla_fechas_cdc_no_acum = data['cdc_report_dt'].value_counts() \r\n",
        "#tabla_fechas_pos_no_acum = data['pos_spec_dt'].value_counts()\r\n",
        "tabla_fechas_muertos_no_acum = data[data['death_yn']=='Yes']['cdc_report_dt'].value_counts()\r\n",
        "fechas = np.unique(tabla_fechas_muertos_no_acum.head(3).index.tolist())\r\n",
        "fechas_aux = [x.strftime(\"%Y-%m-%d\") for x in fechas]\r\n",
        "muertos = tabla_fechas_muertos_no_acum.filter(fechas).values.tolist()\r\n",
        "muertos = [str(x/100)+' K' for x in muertos]\r\n",
        "#fechas = np.unique(tabla_fechas_cdc_no_acum.head(5).index.tolist() + tabla_fechas_muertos_no_acum.head(5).index.tolist())"
      ],
      "execution_count": null,
      "outputs": []
    },
    {
      "cell_type": "code",
      "metadata": {
        "id": "bn6ufDMwaKMT"
      },
      "source": [
        "def millions_formatter(x, pos):\r\n",
        "    return f'{x/1000}'"
      ],
      "execution_count": null,
      "outputs": []
    },
    {
      "cell_type": "code",
      "metadata": {
        "colab": {
          "base_uri": "https://localhost:8080/",
          "height": 601
        },
        "id": "4mnZsj1OUpCQ",
        "outputId": "8574eba0-1ddf-4593-9807-4abb72b01397"
      },
      "source": [
        "plt.rcParams['figure.figsize'] = (23,8)\r\n",
        "plt.rcParams['xtick.labelsize']=14\r\n",
        "plt.rcParams['ytick.labelsize']=14\r\n",
        "plt.rc_context({'xtick.color':'black', 'ytick.color':'black', 'figure.facecolor':'white'})\r\n",
        "fig, ax = plt.subplots()\r\n",
        "ax.grid()\r\n",
        "lns1 = ax.plot(tabla_fechas_cdc.index,tabla_fechas_cdc,color='blue',linestyle='solid',markersize=7,label='Reportados',linewidth=3)\r\n",
        "lns2 = ax.plot(tabla_fechas_pos.index,tabla_fechas_pos,color='red',linestyle='dotted',markersize=7,label='Positivos',linewidth=3)\r\n",
        "ax.yaxis.set_major_formatter(FuncFormatter(millions_formatter))\r\n",
        "ax2 = ax.twinx()\r\n",
        "lns3 = ax2.plot(tabla_fechas_muertos.index,tabla_fechas_muertos,color='green',linestyle='dashed',markersize=7,label='Fallecidos',linewidth=3)\r\n",
        "ax2.yaxis.set_major_formatter(FuncFormatter(millions_formatter))\r\n",
        "ax.set_title('Curva acumulada de casos reportados \\n Enero - Diciembre \\n',fontsize=18)\r\n",
        "ax.set_xlabel('\\n Fecha',fontsize=16)\r\n",
        "ax.set_ylabel('# Casos confirmados \\n (en miles)',fontsize=16)\r\n",
        "ax2.set_ylabel('\\n # Casos fallecidos',fontsize=16)\r\n",
        "\r\n",
        "for (i,j,k) in zip(fechas,muertos,fechas_aux):\r\n",
        "  ax.axvline(x=i,color='orange',linestyle='dashdot',linewidth=2)\r\n",
        "  ax.text(i,7600000,k+'\\n'+j,rotation='vertical',ha='center',va='center',fontsize=13,backgroundcolor='white')\r\n",
        "\r\n",
        "# Unica leyenda\r\n",
        "lns = lns1+lns2+lns3\r\n",
        "labs = [l.get_label() for l in lns]\r\n",
        "ax.legend(lns, labs, loc='upper left',fontsize=16)"
      ],
      "execution_count": null,
      "outputs": [
        {
          "output_type": "execute_result",
          "data": {
            "text/plain": [
              "<matplotlib.legend.Legend at 0x7f624b318c50>"
            ]
          },
          "metadata": {
            "tags": []
          },
          "execution_count": 26
        },
        {
          "output_type": "display_data",
          "data": {
            "image/png": "[encoded data removed]",
            "text/plain": [
              "<Figure size 1656x576 with 2 Axes>"
            ]
          },
          "metadata": {
            "tags": []
          }
        }
      ]
    },
    {
      "cell_type": "markdown",
      "metadata": {
        "id": "hpKFCoSkbMJJ"
      },
      "source": [
        "Se puede observar un crecimiento empinado en los meses de abril, junio, setiembre y noviembre lo que coincide con las noticias reportadas en esos meses. (*https://cutt.ly/3jMgthg* : '**Coronavirus en Estados Unidos: 3 claves del \"preocupante repunte de contagios**\" ', *https://cutt.ly/ujMguiX* : '**Estados Unidos registra 968 muertes por coronavirus en un día**')"
      ]
    },
    {
      "cell_type": "markdown",
      "metadata": {
        "id": "FqIZ3_4VS6DP"
      },
      "source": [
        "Adentrandonos en el mes que se registran los mayores picos de muertos."
      ]
    },
    {
      "cell_type": "code",
      "metadata": {
        "id": "MXtSL4hXRAC_"
      },
      "source": [
        "data_critica = data[(data.cdc_report_dt >= pd.to_datetime('2020-06-01')) & (data.cdc_report_dt<= pd.to_datetime('2020-06-30'))] # 880134 filas"
      ],
      "execution_count": null,
      "outputs": []
    },
    {
      "cell_type": "markdown",
      "metadata": {
        "id": "8nCkZRhrp1Tv"
      },
      "source": [
        "Cuenta con 880,134 filas, cabe resaltar la cantidad de casos confirmados x laboratorio (840,466 -> aprox. 95%), vale la pena compara este mes con los demas meses. (Tomar en consideracion # de casos por confirmar en mayo)"
      ]
    },
    {
      "cell_type": "code",
      "metadata": {
        "colab": {
          "base_uri": "https://localhost:8080/",
          "height": 337
        },
        "id": "L7eFq2zIpKn5",
        "outputId": "7655588e-8854-4970-f1dd-e2086f24149d"
      },
      "source": [
        "data_critica.describe()"
      ],
      "execution_count": null,
      "outputs": [
        {
          "output_type": "stream",
          "text": [
            "/usr/local/lib/python3.6/dist-packages/ipykernel_launcher.py:1: FutureWarning: Treating datetime data as categorical rather than numeric in `.describe` is deprecated and will be removed in a future version of pandas. Specify `datetime_is_numeric=True` to silence this warning and adopt the future behavior now.\n",
            "  \"\"\"Entry point for launching an IPython kernel.\n",
            "/usr/local/lib/python3.6/dist-packages/ipykernel_launcher.py:1: FutureWarning: Treating datetime data as categorical rather than numeric in `.describe` is deprecated and will be removed in a future version of pandas. Specify `datetime_is_numeric=True` to silence this warning and adopt the future behavior now.\n",
            "  \"\"\"Entry point for launching an IPython kernel.\n",
            "/usr/local/lib/python3.6/dist-packages/ipykernel_launcher.py:1: FutureWarning: Treating datetime data as categorical rather than numeric in `.describe` is deprecated and will be removed in a future version of pandas. Specify `datetime_is_numeric=True` to silence this warning and adopt the future behavior now.\n",
            "  \"\"\"Entry point for launching an IPython kernel.\n"
          ],
          "name": "stderr"
        },
        {
          "output_type": "execute_result",
          "data": {
            "text/html": [
              "<div>\n",
              "<style scoped>\n",
              "    .dataframe tbody tr th:only-of-type {\n",
              "        vertical-align: middle;\n",
              "    }\n",
              "\n",
              "    .dataframe tbody tr th {\n",
              "        vertical-align: top;\n",
              "    }\n",
              "\n",
              "    .dataframe thead th {\n",
              "        text-align: right;\n",
              "    }\n",
              "</style>\n",
              "<table border=\"1\" class=\"dataframe\">\n",
              "  <thead>\n",
              "    <tr style=\"text-align: right;\">\n",
              "      <th></th>\n",
              "      <th>cdc_report_dt</th>\n",
              "      <th>pos_spec_dt</th>\n",
              "      <th>onset_dt</th>\n",
              "      <th>current_status</th>\n",
              "      <th>sex</th>\n",
              "      <th>age_group</th>\n",
              "      <th>hosp_yn</th>\n",
              "      <th>icu_yn</th>\n",
              "      <th>death_yn</th>\n",
              "      <th>medcond_yn</th>\n",
              "      <th>Race</th>\n",
              "    </tr>\n",
              "  </thead>\n",
              "  <tbody>\n",
              "    <tr>\n",
              "      <th>count</th>\n",
              "      <td>880134</td>\n",
              "      <td>211321</td>\n",
              "      <td>561235</td>\n",
              "      <td>880134</td>\n",
              "      <td>880131</td>\n",
              "      <td>880120</td>\n",
              "      <td>880134</td>\n",
              "      <td>880134</td>\n",
              "      <td>880134</td>\n",
              "      <td>880134</td>\n",
              "      <td>880134</td>\n",
              "    </tr>\n",
              "    <tr>\n",
              "      <th>unique</th>\n",
              "      <td>30</td>\n",
              "      <td>221</td>\n",
              "      <td>324</td>\n",
              "      <td>2</td>\n",
              "      <td>4</td>\n",
              "      <td>10</td>\n",
              "      <td>4</td>\n",
              "      <td>4</td>\n",
              "      <td>4</td>\n",
              "      <td>4</td>\n",
              "      <td>8</td>\n",
              "    </tr>\n",
              "    <tr>\n",
              "      <th>top</th>\n",
              "      <td>2020-06-24 00:00:00</td>\n",
              "      <td>2020-06-22 00:00:00</td>\n",
              "      <td>2020-06-15 00:00:00</td>\n",
              "      <td>Laboratory-confirmed case</td>\n",
              "      <td>Female</td>\n",
              "      <td>20 - 29 Years</td>\n",
              "      <td>No</td>\n",
              "      <td>Missing</td>\n",
              "      <td>No</td>\n",
              "      <td>Missing</td>\n",
              "      <td>Unknown</td>\n",
              "    </tr>\n",
              "    <tr>\n",
              "      <th>freq</th>\n",
              "      <td>155857</td>\n",
              "      <td>8414</td>\n",
              "      <td>12729</td>\n",
              "      <td>840466</td>\n",
              "      <td>452457</td>\n",
              "      <td>167597</td>\n",
              "      <td>415251</td>\n",
              "      <td>478730</td>\n",
              "      <td>450789</td>\n",
              "      <td>555037</td>\n",
              "      <td>344595</td>\n",
              "    </tr>\n",
              "    <tr>\n",
              "      <th>first</th>\n",
              "      <td>2020-06-01 00:00:00</td>\n",
              "      <td>2020-01-04 00:00:00</td>\n",
              "      <td>2020-01-01 00:00:00</td>\n",
              "      <td>NaN</td>\n",
              "      <td>NaN</td>\n",
              "      <td>NaN</td>\n",
              "      <td>NaN</td>\n",
              "      <td>NaN</td>\n",
              "      <td>NaN</td>\n",
              "      <td>NaN</td>\n",
              "      <td>NaN</td>\n",
              "    </tr>\n",
              "    <tr>\n",
              "      <th>last</th>\n",
              "      <td>2020-06-30 00:00:00</td>\n",
              "      <td>2020-11-30 00:00:00</td>\n",
              "      <td>2020-11-30 00:00:00</td>\n",
              "      <td>NaN</td>\n",
              "      <td>NaN</td>\n",
              "      <td>NaN</td>\n",
              "      <td>NaN</td>\n",
              "      <td>NaN</td>\n",
              "      <td>NaN</td>\n",
              "      <td>NaN</td>\n",
              "      <td>NaN</td>\n",
              "    </tr>\n",
              "  </tbody>\n",
              "</table>\n",
              "</div>"
            ],
            "text/plain": [
              "              cdc_report_dt          pos_spec_dt  ... medcond_yn     Race\n",
              "count                880134               211321  ...     880134   880134\n",
              "unique                   30                  221  ...          4        8\n",
              "top     2020-06-24 00:00:00  2020-06-22 00:00:00  ...    Missing  Unknown\n",
              "freq                 155857                 8414  ...     555037   344595\n",
              "first   2020-06-01 00:00:00  2020-01-04 00:00:00  ...        NaN      NaN\n",
              "last    2020-06-30 00:00:00  2020-11-30 00:00:00  ...        NaN      NaN\n",
              "\n",
              "[6 rows x 11 columns]"
            ]
          },
          "metadata": {
            "tags": []
          },
          "execution_count": 29
        }
      ]
    },
    {
      "cell_type": "code",
      "metadata": {
        "id": "eYaG1bD8pubm"
      },
      "source": [
        "data['Periodo'] = pd.to_datetime(data['cdc_report_dt']).dt.to_period('M')"
      ],
      "execution_count": null,
      "outputs": []
    },
    {
      "cell_type": "code",
      "metadata": {
        "id": "j_PS-NCpnreX",
        "colab": {
          "base_uri": "https://localhost:8080/",
          "height": 392
        },
        "outputId": "ef853ef2-a11e-4d5d-d56c-66df8d01277a"
      },
      "source": [
        "data_agrupada = data.groupby(by=['Periodo','current_status']).size().unstack()\r\n",
        "data_print = round(data_agrupada.div(data_agrupada.sum(axis=1),axis=0)*100,1)\r\n",
        "data_print"
      ],
      "execution_count": null,
      "outputs": [
        {
          "output_type": "execute_result",
          "data": {
            "text/html": [
              "<div>\n",
              "<style scoped>\n",
              "    .dataframe tbody tr th:only-of-type {\n",
              "        vertical-align: middle;\n",
              "    }\n",
              "\n",
              "    .dataframe tbody tr th {\n",
              "        vertical-align: top;\n",
              "    }\n",
              "\n",
              "    .dataframe thead th {\n",
              "        text-align: right;\n",
              "    }\n",
              "</style>\n",
              "<table border=\"1\" class=\"dataframe\">\n",
              "  <thead>\n",
              "    <tr style=\"text-align: right;\">\n",
              "      <th>current_status</th>\n",
              "      <th>Laboratory-confirmed case</th>\n",
              "      <th>Probable Case</th>\n",
              "    </tr>\n",
              "    <tr>\n",
              "      <th>Periodo</th>\n",
              "      <th></th>\n",
              "      <th></th>\n",
              "    </tr>\n",
              "  </thead>\n",
              "  <tbody>\n",
              "    <tr>\n",
              "      <th>2020-01</th>\n",
              "      <td>88.8</td>\n",
              "      <td>11.2</td>\n",
              "    </tr>\n",
              "    <tr>\n",
              "      <th>2020-02</th>\n",
              "      <td>93.2</td>\n",
              "      <td>6.8</td>\n",
              "    </tr>\n",
              "    <tr>\n",
              "      <th>2020-03</th>\n",
              "      <td>98.8</td>\n",
              "      <td>1.2</td>\n",
              "    </tr>\n",
              "    <tr>\n",
              "      <th>2020-04</th>\n",
              "      <td>95.3</td>\n",
              "      <td>4.7</td>\n",
              "    </tr>\n",
              "    <tr>\n",
              "      <th>2020-05</th>\n",
              "      <td>89.0</td>\n",
              "      <td>11.0</td>\n",
              "    </tr>\n",
              "    <tr>\n",
              "      <th>2020-06</th>\n",
              "      <td>95.5</td>\n",
              "      <td>4.5</td>\n",
              "    </tr>\n",
              "    <tr>\n",
              "      <th>2020-07</th>\n",
              "      <td>96.5</td>\n",
              "      <td>3.5</td>\n",
              "    </tr>\n",
              "    <tr>\n",
              "      <th>2020-08</th>\n",
              "      <td>96.0</td>\n",
              "      <td>4.0</td>\n",
              "    </tr>\n",
              "    <tr>\n",
              "      <th>2020-09</th>\n",
              "      <td>94.8</td>\n",
              "      <td>5.2</td>\n",
              "    </tr>\n",
              "    <tr>\n",
              "      <th>2020-10</th>\n",
              "      <td>93.1</td>\n",
              "      <td>6.9</td>\n",
              "    </tr>\n",
              "    <tr>\n",
              "      <th>2020-11</th>\n",
              "      <td>92.1</td>\n",
              "      <td>7.9</td>\n",
              "    </tr>\n",
              "  </tbody>\n",
              "</table>\n",
              "</div>"
            ],
            "text/plain": [
              "current_status  Laboratory-confirmed case  Probable Case\n",
              "Periodo                                                 \n",
              "2020-01                              88.8           11.2\n",
              "2020-02                              93.2            6.8\n",
              "2020-03                              98.8            1.2\n",
              "2020-04                              95.3            4.7\n",
              "2020-05                              89.0           11.0\n",
              "2020-06                              95.5            4.5\n",
              "2020-07                              96.5            3.5\n",
              "2020-08                              96.0            4.0\n",
              "2020-09                              94.8            5.2\n",
              "2020-10                              93.1            6.9\n",
              "2020-11                              92.1            7.9"
            ]
          },
          "metadata": {
            "tags": []
          },
          "execution_count": 35
        }
      ]
    },
    {
      "cell_type": "code",
      "metadata": {
        "colab": {
          "base_uri": "https://localhost:8080/",
          "height": 392
        },
        "id": "b9BFdtleBGZI",
        "outputId": "2070eadd-5269-4f9a-e962-09d7f9d6f976"
      },
      "source": [
        "data_agrupada = data[data['medcond_yn'].isin(['Yes','No'])].groupby(by=['Periodo','medcond_yn']).size().unstack()\r\n",
        "data_print = round(data_agrupada.div(data_agrupada.sum(axis=1),axis=0)*100,1)\r\n",
        "data_print = data_print.join(data_agrupada,rsuffix='_total')\r\n",
        "data_print['Total'] = data_print['No_total'] + data_print['Yes_total']\r\n",
        "data_print"
      ],
      "execution_count": null,
      "outputs": [
        {
          "output_type": "execute_result",
          "data": {
            "text/html": [
              "<div>\n",
              "<style scoped>\n",
              "    .dataframe tbody tr th:only-of-type {\n",
              "        vertical-align: middle;\n",
              "    }\n",
              "\n",
              "    .dataframe tbody tr th {\n",
              "        vertical-align: top;\n",
              "    }\n",
              "\n",
              "    .dataframe thead th {\n",
              "        text-align: right;\n",
              "    }\n",
              "</style>\n",
              "<table border=\"1\" class=\"dataframe\">\n",
              "  <thead>\n",
              "    <tr style=\"text-align: right;\">\n",
              "      <th>medcond_yn</th>\n",
              "      <th>No</th>\n",
              "      <th>Yes</th>\n",
              "      <th>No_total</th>\n",
              "      <th>Yes_total</th>\n",
              "      <th>Total</th>\n",
              "    </tr>\n",
              "    <tr>\n",
              "      <th>Periodo</th>\n",
              "      <th></th>\n",
              "      <th></th>\n",
              "      <th></th>\n",
              "      <th></th>\n",
              "      <th></th>\n",
              "    </tr>\n",
              "  </thead>\n",
              "  <tbody>\n",
              "    <tr>\n",
              "      <th>2020-01</th>\n",
              "      <td>43.4</td>\n",
              "      <td>56.6</td>\n",
              "      <td>23</td>\n",
              "      <td>30</td>\n",
              "      <td>53</td>\n",
              "    </tr>\n",
              "    <tr>\n",
              "      <th>2020-02</th>\n",
              "      <td>39.8</td>\n",
              "      <td>60.2</td>\n",
              "      <td>107</td>\n",
              "      <td>162</td>\n",
              "      <td>269</td>\n",
              "    </tr>\n",
              "    <tr>\n",
              "      <th>2020-03</th>\n",
              "      <td>27.9</td>\n",
              "      <td>72.1</td>\n",
              "      <td>14189</td>\n",
              "      <td>36705</td>\n",
              "      <td>50894</td>\n",
              "    </tr>\n",
              "    <tr>\n",
              "      <th>2020-04</th>\n",
              "      <td>32.7</td>\n",
              "      <td>67.3</td>\n",
              "      <td>44038</td>\n",
              "      <td>90630</td>\n",
              "      <td>134668</td>\n",
              "    </tr>\n",
              "    <tr>\n",
              "      <th>2020-05</th>\n",
              "      <td>43.0</td>\n",
              "      <td>57.0</td>\n",
              "      <td>55877</td>\n",
              "      <td>74149</td>\n",
              "      <td>130026</td>\n",
              "    </tr>\n",
              "    <tr>\n",
              "      <th>2020-06</th>\n",
              "      <td>27.4</td>\n",
              "      <td>72.6</td>\n",
              "      <td>55970</td>\n",
              "      <td>148547</td>\n",
              "      <td>204517</td>\n",
              "    </tr>\n",
              "    <tr>\n",
              "      <th>2020-07</th>\n",
              "      <td>50.3</td>\n",
              "      <td>49.7</td>\n",
              "      <td>102862</td>\n",
              "      <td>101544</td>\n",
              "      <td>204406</td>\n",
              "    </tr>\n",
              "    <tr>\n",
              "      <th>2020-08</th>\n",
              "      <td>56.7</td>\n",
              "      <td>43.3</td>\n",
              "      <td>104573</td>\n",
              "      <td>79957</td>\n",
              "      <td>184530</td>\n",
              "    </tr>\n",
              "    <tr>\n",
              "      <th>2020-09</th>\n",
              "      <td>57.2</td>\n",
              "      <td>42.8</td>\n",
              "      <td>89971</td>\n",
              "      <td>67198</td>\n",
              "      <td>157169</td>\n",
              "    </tr>\n",
              "    <tr>\n",
              "      <th>2020-10</th>\n",
              "      <td>56.5</td>\n",
              "      <td>43.5</td>\n",
              "      <td>128084</td>\n",
              "      <td>98429</td>\n",
              "      <td>226513</td>\n",
              "    </tr>\n",
              "    <tr>\n",
              "      <th>2020-11</th>\n",
              "      <td>58.3</td>\n",
              "      <td>41.7</td>\n",
              "      <td>122722</td>\n",
              "      <td>87904</td>\n",
              "      <td>210626</td>\n",
              "    </tr>\n",
              "  </tbody>\n",
              "</table>\n",
              "</div>"
            ],
            "text/plain": [
              "medcond_yn    No   Yes  No_total  Yes_total   Total\n",
              "Periodo                                            \n",
              "2020-01     43.4  56.6        23         30      53\n",
              "2020-02     39.8  60.2       107        162     269\n",
              "2020-03     27.9  72.1     14189      36705   50894\n",
              "2020-04     32.7  67.3     44038      90630  134668\n",
              "2020-05     43.0  57.0     55877      74149  130026\n",
              "2020-06     27.4  72.6     55970     148547  204517\n",
              "2020-07     50.3  49.7    102862     101544  204406\n",
              "2020-08     56.7  43.3    104573      79957  184530\n",
              "2020-09     57.2  42.8     89971      67198  157169\n",
              "2020-10     56.5  43.5    128084      98429  226513\n",
              "2020-11     58.3  41.7    122722      87904  210626"
            ]
          },
          "metadata": {
            "tags": []
          },
          "execution_count": 34
        }
      ]
    },
    {
      "cell_type": "code",
      "metadata": {
        "id": "gS0NB50ezIIR"
      },
      "source": [
        "data_agrupada = data[data.death_yn.isin(['Yes','No']) & data.sex.isin(['Male','Female']) & ~data.age_group.isin(['Unknown'])].groupby(by=['sex','age_group','death_yn']).size().unstack()\r\n",
        "data_print = round(data_agrupada.div(data_agrupada.sum(axis=1),axis=0)*100,1)\r\n",
        "data_print = data_print.join(data_agrupada,rsuffix='_total')\r\n",
        "data_print"
      ],
      "execution_count": null,
      "outputs": []
    },
    {
      "cell_type": "code",
      "metadata": {
        "id": "_PLD-c8mCHuX"
      },
      "source": [
        "data_agrupada = data[data.death_yn.isin(['Yes','No']) & data.sex.isin(['Male','Female']) & ~data.Race.isin(['Unknown'])].groupby(by=['sex','Race','death_yn']).size().unstack()\r\n",
        "data_print = round(data_agrupada.div(data_agrupada.sum(axis=1),axis=0)*100,1)\r\n",
        "data_print = data_print.join(data_agrupada,rsuffix='_total')\r\n",
        "data_print"
      ],
      "execution_count": null,
      "outputs": []
    },
    {
      "cell_type": "code",
      "metadata": {
        "colab": {
          "base_uri": "https://localhost:8080/",
          "height": 306
        },
        "id": "pYdSMWiPEc97",
        "outputId": "40fd95a3-d51d-4d8a-ed9d-b1897b85dd66"
      },
      "source": [
        "data_agrupada = data[data.death_yn.isin(['Yes','No']) & data.medcond_yn.isin(['Yes','No']) & data.hosp_yn.isin(['Yes','No']) & data.icu_yn.isin(['Yes','No'])].groupby(by=['medcond_yn','hosp_yn','icu_yn','death_yn']).size().unstack()\r\n",
        "data_agrupada"
      ],
      "execution_count": null,
      "outputs": [
        {
          "output_type": "execute_result",
          "data": {
            "text/html": [
              "<div>\n",
              "<style scoped>\n",
              "    .dataframe tbody tr th:only-of-type {\n",
              "        vertical-align: middle;\n",
              "    }\n",
              "\n",
              "    .dataframe tbody tr th {\n",
              "        vertical-align: top;\n",
              "    }\n",
              "\n",
              "    .dataframe thead th {\n",
              "        text-align: right;\n",
              "    }\n",
              "</style>\n",
              "<table border=\"1\" class=\"dataframe\">\n",
              "  <thead>\n",
              "    <tr style=\"text-align: right;\">\n",
              "      <th></th>\n",
              "      <th></th>\n",
              "      <th>death_yn</th>\n",
              "      <th>No</th>\n",
              "      <th>Yes</th>\n",
              "    </tr>\n",
              "    <tr>\n",
              "      <th>medcond_yn</th>\n",
              "      <th>hosp_yn</th>\n",
              "      <th>icu_yn</th>\n",
              "      <th></th>\n",
              "      <th></th>\n",
              "    </tr>\n",
              "  </thead>\n",
              "  <tbody>\n",
              "    <tr>\n",
              "      <th rowspan=\"4\" valign=\"top\">No</th>\n",
              "      <th rowspan=\"2\" valign=\"top\">No</th>\n",
              "      <th>No</th>\n",
              "      <td>246995</td>\n",
              "      <td>550</td>\n",
              "    </tr>\n",
              "    <tr>\n",
              "      <th>Yes</th>\n",
              "      <td>164</td>\n",
              "      <td>2</td>\n",
              "    </tr>\n",
              "    <tr>\n",
              "      <th rowspan=\"2\" valign=\"top\">Yes</th>\n",
              "      <th>No</th>\n",
              "      <td>10961</td>\n",
              "      <td>437</td>\n",
              "    </tr>\n",
              "    <tr>\n",
              "      <th>Yes</th>\n",
              "      <td>2385</td>\n",
              "      <td>1175</td>\n",
              "    </tr>\n",
              "    <tr>\n",
              "      <th rowspan=\"4\" valign=\"top\">Yes</th>\n",
              "      <th rowspan=\"2\" valign=\"top\">No</th>\n",
              "      <th>No</th>\n",
              "      <td>204488</td>\n",
              "      <td>3983</td>\n",
              "    </tr>\n",
              "    <tr>\n",
              "      <th>Yes</th>\n",
              "      <td>267</td>\n",
              "      <td>51</td>\n",
              "    </tr>\n",
              "    <tr>\n",
              "      <th rowspan=\"2\" valign=\"top\">Yes</th>\n",
              "      <th>No</th>\n",
              "      <td>41174</td>\n",
              "      <td>9930</td>\n",
              "    </tr>\n",
              "    <tr>\n",
              "      <th>Yes</th>\n",
              "      <td>11489</td>\n",
              "      <td>16456</td>\n",
              "    </tr>\n",
              "  </tbody>\n",
              "</table>\n",
              "</div>"
            ],
            "text/plain": [
              "death_yn                       No    Yes\n",
              "medcond_yn hosp_yn icu_yn               \n",
              "No         No      No      246995    550\n",
              "                   Yes        164      2\n",
              "           Yes     No       10961    437\n",
              "                   Yes       2385   1175\n",
              "Yes        No      No      204488   3983\n",
              "                   Yes        267     51\n",
              "           Yes     No       41174   9930\n",
              "                   Yes      11489  16456"
            ]
          },
          "metadata": {
            "tags": []
          },
          "execution_count": 66
        }
      ]
    },
    {
      "cell_type": "code",
      "metadata": {
        "colab": {
          "base_uri": "https://localhost:8080/"
        },
        "id": "UrZawK9cDD_m",
        "outputId": "5ef01437-eff5-4543-e33d-09e83846a07b"
      },
      "source": [
        "data.medcond_yn.value_counts()"
      ],
      "execution_count": null,
      "outputs": [
        {
          "output_type": "execute_result",
          "data": {
            "text/plain": [
              "Missing    6063390\n",
              "Unknown     838018\n",
              "Yes         785255\n",
              "No          718416\n",
              "Name: medcond_yn, dtype: int64"
            ]
          },
          "metadata": {
            "tags": []
          },
          "execution_count": 57
        }
      ]
    },
    {
      "cell_type": "markdown",
      "metadata": {
        "id": "U9Lm-ICGYAqu"
      },
      "source": [
        "Analizamos los atributos "
      ]
    },
    {
      "cell_type": "code",
      "metadata": {
        "colab": {
          "base_uri": "https://localhost:8080/",
          "height": 502
        },
        "id": "Ch8GoWrVXYZo",
        "outputId": "afd30561-78ef-40fb-f52b-ebaafaea1cd5"
      },
      "source": [
        "grafica = sns.catplot(data=data[data.death_yn.isin(['Yes','No']) & data.sex.isin(['Male','Female']) ],\r\n",
        "              x='age_group', \r\n",
        "              col='death_yn',\r\n",
        "              hue='sex',\r\n",
        "              kind='count',\r\n",
        "              height=6, aspect=1.3)\r\n",
        "grafica.set_xticklabels(rotation=30)"
      ],
      "execution_count": null,
      "outputs": [
        {
          "output_type": "execute_result",
          "data": {
            "text/plain": [
              "<seaborn.axisgrid.FacetGrid at 0x7fb26581d7f0>"
            ]
          },
          "metadata": {
            "tags": []
          },
          "execution_count": 85
        },
        {
          "output_type": "display_data",
          "data": {
            "image/png": "[encoded data removed]",
            "text/plain": [
              "<Figure size 1195.33x432 with 2 Axes>"
            ]
          },
          "metadata": {
            "tags": []
          }
        }
      ]
    },
    {
      "cell_type": "code",
      "metadata": {
        "colab": {
          "base_uri": "https://localhost:8080/",
          "height": 455
        },
        "id": "R6OVk-DEXhwr",
        "outputId": "7394aaaa-acc6-448b-8adf-c97402672947"
      },
      "source": [
        "grafica = sns.catplot(data=data[data.death_yn.isin(['Yes','No']) & data.sex.isin(['Male','Female']) ],\r\n",
        "              y='Race', \r\n",
        "              col='death_yn',\r\n",
        "              hue='sex',\r\n",
        "              kind='count',\r\n",
        "              order=data['Race'].value_counts().index,\r\n",
        "              height=6, aspect=1.3)"
      ],
      "execution_count": null,
      "outputs": [
        {
          "output_type": "display_data",
          "data": {
            "image/png": "[encoded data removed]",
            "text/plain": [
              "<Figure size 1195.33x432 with 2 Axes>"
            ]
          },
          "metadata": {
            "tags": []
          }
        }
      ]
    },
    {
      "cell_type": "markdown",
      "metadata": {
        "id": "XVm0cGxHYxio"
      },
      "source": [
        "Analizando posible variable a predecir."
      ]
    },
    {
      "cell_type": "code",
      "metadata": {
        "colab": {
          "base_uri": "https://localhost:8080/",
          "height": 441
        },
        "id": "7AgIDSWLYhok",
        "outputId": "a4a8a56b-fe67-439a-d293-481b60568c54"
      },
      "source": [
        "plt.figure(figsize=(30,10))\r\n",
        "plt.subplots_adjust(left=0.125, bottom=0.1, right=0.9, top=0.9,\r\n",
        "                      wspace=0.5, hspace=0.2)\r\n",
        "plt.subplot(141)\r\n",
        "plt.title('medcond_yn - condicion medica subyacente ',fontsize = 20)\r\n",
        "data['medcond_yn'].value_counts().plot.pie(autopct=\"%1.1f%%\")\r\n",
        "\r\n",
        "data['medcond_yn'].value_counts()"
      ],
      "execution_count": null,
      "outputs": [
        {
          "output_type": "execute_result",
          "data": {
            "text/plain": [
              "Missing    6063390\n",
              "Unknown     838018\n",
              "Yes         785255\n",
              "No          718416\n",
              "Name: medcond_yn, dtype: int64"
            ]
          },
          "metadata": {
            "tags": []
          },
          "execution_count": 33
        },
        {
          "output_type": "display_data",
          "data": {
            "image/png": "[encoded data removed]",
            "text/plain": [
              "<Figure size 2160x720 with 1 Axes>"
            ]
          },
          "metadata": {
            "tags": []
          }
        }
      ]
    },
    {
      "cell_type": "code",
      "metadata": {
        "colab": {
          "base_uri": "https://localhost:8080/",
          "height": 441
        },
        "id": "uhKq-VKVZGe6",
        "outputId": "30888fba-7d5c-463e-e8dc-6d9245d02aff"
      },
      "source": [
        "plt.figure(figsize=(30,10))\r\n",
        "plt.subplots_adjust(left=0.125, bottom=0.1, right=0.9, top=0.9,\r\n",
        "                      wspace=0.5, hspace=0.2)\r\n",
        "plt.subplot(141)\r\n",
        "plt.title('death_yn - Mortalidad del paciente',fontsize = 20)\r\n",
        "data['death_yn'].value_counts().plot.pie(autopct=\"%1.1f%%\")\r\n",
        "\r\n",
        "data['death_yn'].value_counts()"
      ],
      "execution_count": null,
      "outputs": [
        {
          "output_type": "execute_result",
          "data": {
            "text/plain": [
              "No         3690813\n",
              "Missing    3486923\n",
              "Unknown    1043766\n",
              "Yes         183577\n",
              "Name: death_yn, dtype: int64"
            ]
          },
          "metadata": {
            "tags": []
          },
          "execution_count": 34
        },
        {
          "output_type": "display_data",
          "data": {
            "image/png": "[encoded data removed]",
            "text/plain": [
              "<Figure size 2160x720 with 1 Axes>"
            ]
          },
          "metadata": {
            "tags": []
          }
        }
      ]
    },
    {
      "cell_type": "code",
      "metadata": {
        "colab": {
          "base_uri": "https://localhost:8080/",
          "height": 442
        },
        "id": "FFwfxM9wZiuK",
        "outputId": "afa123bc-955e-4a87-fe3d-f7613e5202a9"
      },
      "source": [
        "plt.figure(figsize=(30,10))\r\n",
        "plt.subplots_adjust(left=0.125, bottom=0.1, right=0.9, top=0.9,\r\n",
        "                      wspace=0.5, hspace=0.2)\r\n",
        "plt.subplot(141)\r\n",
        "plt.title('hosp_yn - Hospitalización del paciente',fontsize = 20)\r\n",
        "data['hosp_yn'].value_counts().plot.pie(autopct=\"%1.1f%%\")\r\n",
        "\r\n",
        "data['death_yn'].value_counts()"
      ],
      "execution_count": null,
      "outputs": [
        {
          "output_type": "execute_result",
          "data": {
            "text/plain": [
              "No         3690813\n",
              "Missing    3486923\n",
              "Unknown    1043766\n",
              "Yes         183577\n",
              "Name: death_yn, dtype: int64"
            ]
          },
          "metadata": {
            "tags": []
          },
          "execution_count": 35
        },
        {
          "output_type": "display_data",
          "data": {
            "image/png": "[encoded data removed]",
            "text/plain": [
              "<Figure size 2160x720 with 1 Axes>"
            ]
          },
          "metadata": {
            "tags": []
          }
        }
      ]
    },
    {
      "cell_type": "code",
      "metadata": {
        "colab": {
          "base_uri": "https://localhost:8080/",
          "height": 441
        },
        "id": "Wmc6YjvdZxE7",
        "outputId": "d7cfbba9-c5fd-4a7d-9b5b-6966eb9f0824"
      },
      "source": [
        "plt.figure(figsize=(30,10))\r\n",
        "plt.subplots_adjust(left=0.125, bottom=0.1, right=0.9, top=0.9,\r\n",
        "                      wspace=0.5, hspace=0.2)\r\n",
        "plt.subplot(141)\r\n",
        "plt.title('icu_yn - Paciente pasa a UCI',fontsize = 20)\r\n",
        "data['icu_yn'].value_counts().plot.pie(autopct=\"%1.1f%%\")\r\n",
        "\r\n",
        "data['icu_yn'].value_counts()"
      ],
      "execution_count": null,
      "outputs": [
        {
          "output_type": "execute_result",
          "data": {
            "text/plain": [
              "Missing    6178281\n",
              "Unknown    1286236\n",
              "No          879671\n",
              "Yes          60891\n",
              "Name: icu_yn, dtype: int64"
            ]
          },
          "metadata": {
            "tags": []
          },
          "execution_count": 36
        },
        {
          "output_type": "display_data",
          "data": {
            "image/png": "[encoded data removed]",
            "text/plain": [
              "<Figure size 2160x720 with 1 Axes>"
            ]
          },
          "metadata": {
            "tags": []
          }
        }
      ]
    },
    {
      "cell_type": "markdown",
      "metadata": {
        "id": "I0OkLiU2ahDT"
      },
      "source": [
        "Se observaron mucha cantidad de datos faltantes en las variables de fechas **pos_spec_dt** y\t**onset_dt** por eso procedemos a eliminarlas\r\n"
      ]
    },
    {
      "cell_type": "code",
      "metadata": {
        "colab": {
          "base_uri": "https://localhost:8080/"
        },
        "id": "KyJY_RPnaIVY",
        "outputId": "3c5bd428-cb6c-4e5f-e5ae-eff7e4374a2f"
      },
      "source": [
        "data = data.drop(['pos_spec_dt','onset_dt'],axis =1)\r\n",
        "print(data.shape)"
      ],
      "execution_count": null,
      "outputs": [
        {
          "output_type": "stream",
          "text": [
            "(8405079, 9)\n"
          ],
          "name": "stdout"
        }
      ]
    },
    {
      "cell_type": "markdown",
      "metadata": {
        "id": "IMDMpYJrcP40"
      },
      "source": [
        "También procedemos a elimnar los valores faltantes al ser un numero minimo de casos respecto a la base"
      ]
    },
    {
      "cell_type": "code",
      "metadata": {
        "colab": {
          "base_uri": "https://localhost:8080/"
        },
        "id": "3TdYKK7BdT7B",
        "outputId": "ec8d9d92-55b7-4c66-84c8-99c9c995e144"
      },
      "source": [
        "data.isnull().sum(axis=0)"
      ],
      "execution_count": null,
      "outputs": [
        {
          "output_type": "execute_result",
          "data": {
            "text/plain": [
              "cdc_report_dt                     0\n",
              "current_status                    0\n",
              "sex                              18\n",
              "age_group                        89\n",
              "Race and ethnicity (combined)     7\n",
              "hosp_yn                           0\n",
              "icu_yn                            0\n",
              "death_yn                          0\n",
              "medcond_yn                        0\n",
              "dtype: int64"
            ]
          },
          "metadata": {
            "tags": []
          },
          "execution_count": 51
        }
      ]
    },
    {
      "cell_type": "code",
      "metadata": {
        "colab": {
          "base_uri": "https://localhost:8080/"
        },
        "id": "uPeWLsu6cMIs",
        "outputId": "40f50ed0-61a3-40e0-8cf5-282cbfe095ae"
      },
      "source": [
        "data = data.dropna()\r\n",
        "\r\n",
        "data.isnull().sum(axis=0)"
      ],
      "execution_count": null,
      "outputs": [
        {
          "output_type": "execute_result",
          "data": {
            "text/plain": [
              "cdc_report_dt                    0\n",
              "current_status                   0\n",
              "sex                              0\n",
              "age_group                        0\n",
              "Race and ethnicity (combined)    0\n",
              "hosp_yn                          0\n",
              "icu_yn                           0\n",
              "death_yn                         0\n",
              "medcond_yn                       0\n",
              "dtype: int64"
            ]
          },
          "metadata": {
            "tags": []
          },
          "execution_count": 52
        }
      ]
    },
    {
      "cell_type": "markdown",
      "metadata": {
        "id": "SpwkAc3Gdzlz"
      },
      "source": [
        "Se observa que ahora no hay datos faltantes y se tiene una base con 8404990 registros."
      ]
    },
    {
      "cell_type": "code",
      "metadata": {
        "colab": {
          "base_uri": "https://localhost:8080/",
          "height": 173
        },
        "id": "PLvMKnXhdN78",
        "outputId": "93986dff-9be4-414b-afe9-3906b1c86766"
      },
      "source": [
        "data.describe()"
      ],
      "execution_count": null,
      "outputs": [
        {
          "output_type": "execute_result",
          "data": {
            "text/html": [
              "<div>\n",
              "<style scoped>\n",
              "    .dataframe tbody tr th:only-of-type {\n",
              "        vertical-align: middle;\n",
              "    }\n",
              "\n",
              "    .dataframe tbody tr th {\n",
              "        vertical-align: top;\n",
              "    }\n",
              "\n",
              "    .dataframe thead th {\n",
              "        text-align: right;\n",
              "    }\n",
              "</style>\n",
              "<table border=\"1\" class=\"dataframe\">\n",
              "  <thead>\n",
              "    <tr style=\"text-align: right;\">\n",
              "      <th></th>\n",
              "      <th>cdc_report_dt</th>\n",
              "      <th>current_status</th>\n",
              "      <th>sex</th>\n",
              "      <th>age_group</th>\n",
              "      <th>Race and ethnicity (combined)</th>\n",
              "      <th>hosp_yn</th>\n",
              "      <th>icu_yn</th>\n",
              "      <th>death_yn</th>\n",
              "      <th>medcond_yn</th>\n",
              "    </tr>\n",
              "  </thead>\n",
              "  <tbody>\n",
              "    <tr>\n",
              "      <th>count</th>\n",
              "      <td>8404990</td>\n",
              "      <td>8404990</td>\n",
              "      <td>8404990</td>\n",
              "      <td>8404990</td>\n",
              "      <td>8404990</td>\n",
              "      <td>8404990</td>\n",
              "      <td>8404990</td>\n",
              "      <td>8404990</td>\n",
              "      <td>8404990</td>\n",
              "    </tr>\n",
              "    <tr>\n",
              "      <th>unique</th>\n",
              "      <td>321</td>\n",
              "      <td>2</td>\n",
              "      <td>5</td>\n",
              "      <td>10</td>\n",
              "      <td>9</td>\n",
              "      <td>4</td>\n",
              "      <td>4</td>\n",
              "      <td>4</td>\n",
              "      <td>4</td>\n",
              "    </tr>\n",
              "    <tr>\n",
              "      <th>top</th>\n",
              "      <td>2020/06/24</td>\n",
              "      <td>Laboratory-confirmed case</td>\n",
              "      <td>Female</td>\n",
              "      <td>20 - 29 Years</td>\n",
              "      <td>Unknown</td>\n",
              "      <td>No</td>\n",
              "      <td>Missing</td>\n",
              "      <td>No</td>\n",
              "      <td>Missing</td>\n",
              "    </tr>\n",
              "    <tr>\n",
              "      <th>freq</th>\n",
              "      <td>155856</td>\n",
              "      <td>7910037</td>\n",
              "      <td>4340898</td>\n",
              "      <td>1635264</td>\n",
              "      <td>2781165</td>\n",
              "      <td>3502508</td>\n",
              "      <td>6178240</td>\n",
              "      <td>3690765</td>\n",
              "      <td>6063360</td>\n",
              "    </tr>\n",
              "  </tbody>\n",
              "</table>\n",
              "</div>"
            ],
            "text/plain": [
              "       cdc_report_dt             current_status  ... death_yn medcond_yn\n",
              "count        8404990                    8404990  ...  8404990    8404990\n",
              "unique           321                          2  ...        4          4\n",
              "top       2020/06/24  Laboratory-confirmed case  ...       No    Missing\n",
              "freq          155856                    7910037  ...  3690765    6063360\n",
              "\n",
              "[4 rows x 9 columns]"
            ]
          },
          "metadata": {
            "tags": []
          },
          "execution_count": 53
        }
      ]
    },
    {
      "cell_type": "code",
      "metadata": {
        "id": "5_rnOv4buckW"
      },
      "source": [
        ""
      ],
      "execution_count": null,
      "outputs": []
    },
    {
      "cell_type": "markdown",
      "metadata": {
        "id": "e_6Q4zAh5zRp"
      },
      "source": [
        "**Antecedente**: Adquisición de conocimiento sobre la letalidad de la COVID-19 mediante técnicas de inteligencia artificial\r\n",
        "\r\n",
        " http://www.revistaccuba.sld.cu/index.php/revacc/article/view/891/912"
      ]
    },
    {
      "cell_type": "code",
      "metadata": {
        "id": "67zcwxbSucg9"
      },
      "source": [
        ""
      ],
      "execution_count": null,
      "outputs": []
    },
    {
      "cell_type": "code",
      "metadata": {
        "id": "6ptMtRUMucOs"
      },
      "source": [
        ""
      ],
      "execution_count": null,
      "outputs": []
    }
  ]
}